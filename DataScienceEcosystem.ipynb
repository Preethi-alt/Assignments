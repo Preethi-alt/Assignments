{
 "cells": [
  {
   "cell_type": "markdown",
   "id": "dbfa97d6-96e7-4ecb-b794-2a582d9ed98f",
   "metadata": {},
   "source": []
  },
  {
   "cell_type": "markdown",
   "id": "e9369d66-4d4d-4bf6-994a-6c6a733afd82",
   "metadata": {},
   "source": [
    "# Data Science Tools and Ecosystem"
   ]
  },
  {
   "cell_type": "markdown",
   "id": "6e833ca6-1190-419c-be08-e7c8c3ac03fb",
   "metadata": {},
   "source": [
    "## In this notebook, Data Science Tools and Ecosystem are summarized."
   ]
  },
  {
   "cell_type": "markdown",
   "id": "dd80515a-067a-476d-9c61-dd779c090bb7",
   "metadata": {},
   "source": [
    "### Objectives:\n",
    "- Popular languages of Data science\n",
    "- Commonly used libraries\n",
    "- Tools used\n",
    "- How to do arithmetic expression"
   ]
  },
  {
   "cell_type": "markdown",
   "id": "8d089086-ce4a-43cf-80cd-8f8b73a7b1df",
   "metadata": {},
   "source": [
    "### Some of the popular languages that Data Scientists use are:\n",
    "1. Python\n",
    "2. R\n",
    "3. Scala\n",
    "4. Julia\n"
   ]
  },
  {
   "cell_type": "markdown",
   "id": "03c6d09b-c817-4da1-a16a-569cb9435cfe",
   "metadata": {},
   "source": [
    "### Some of the commonly used libraries used by Data Scientists include:\n",
    "1. NumPy\n",
    "2. Pandas\n",
    "3. Matplotlib\n",
    "4. SciPy"
   ]
  },
  {
   "cell_type": "markdown",
   "id": "1e983bb9-17d8-431a-b20e-3ac2fe00c542",
   "metadata": {},
   "source": [
    "| Data Science Tools\n",
    "| ------------------\n",
    "| Jupyter lab\n",
    "| Anaconda\n",
    "| Rstudio"
   ]
  },
  {
   "cell_type": "markdown",
   "id": "a0f31feb-7aa2-4ec7-8051-010756f7947b",
   "metadata": {},
   "source": [
    "### Below are a few examples of evaluating arithmetic expressions in Python"
   ]
  },
  {
   "cell_type": "code",
   "execution_count": 1,
   "id": "02fbafce-92dd-43ce-b773-6c83caf21a4b",
   "metadata": {},
   "outputs": [
    {
     "data": {
      "text/plain": [
       "17"
      ]
     },
     "execution_count": 1,
     "metadata": {},
     "output_type": "execute_result"
    }
   ],
   "source": [
    "# This a simple arithmetic expression to mutiply then add integers.\n",
    "(3*4)+5\n"
   ]
  },
  {
   "cell_type": "code",
   "execution_count": 2,
   "id": "228f4efb-54ec-4b77-8258-bc74751700a6",
   "metadata": {},
   "outputs": [
    {
     "data": {
      "text/plain": [
       "3.3333333333333335"
      ]
     },
     "execution_count": 2,
     "metadata": {},
     "output_type": "execute_result"
    }
   ],
   "source": [
    "# This will convert 200 minutes to hours by diving by 60.\n",
    "200/60"
   ]
  },
  {
   "cell_type": "markdown",
   "id": "21cb62be-6b6d-49a1-8938-fb3e235544be",
   "metadata": {},
   "source": [
    "## Author\n",
    "Preethi Chinnaraj"
   ]
  },
  {
   "cell_type": "code",
   "execution_count": null,
   "id": "58631b2e-f691-4e87-ab19-867710551655",
   "metadata": {},
   "outputs": [],
   "source": []
  }
 ],
 "metadata": {
  "kernelspec": {
   "display_name": "Python 3 (ipykernel)",
   "language": "python",
   "name": "python3"
  },
  "language_info": {
   "codemirror_mode": {
    "name": "ipython",
    "version": 3
   },
   "file_extension": ".py",
   "mimetype": "text/x-python",
   "name": "python",
   "nbconvert_exporter": "python",
   "pygments_lexer": "ipython3",
   "version": "3.12.8"
  }
 },
 "nbformat": 4,
 "nbformat_minor": 5
}
